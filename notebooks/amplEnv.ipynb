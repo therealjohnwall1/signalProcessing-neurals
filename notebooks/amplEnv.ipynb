{
 "cells": [
  {
   "cell_type": "code",
   "execution_count": null,
   "metadata": {},
   "outputs": [],
   "source": [
    "%pip install librosa"
   ]
  },
  {
   "cell_type": "code",
   "execution_count": 16,
   "metadata": {},
   "outputs": [],
   "source": [
    "import librosa\n",
    "import librosa.display\n",
    "\n",
    "import IPython.display as ipd\n",
    "import matplotlib.pyplot as plt"
   ]
  },
  {
   "cell_type": "code",
   "execution_count": 24,
   "metadata": {},
   "outputs": [],
   "source": [
    "aud_file = \"../sampleAudio/tgRunIt.wav\"\n",
    "deb = \"../sampleAudio/debussy.wav\"\n",
    "duke = \"../sampleAudio/duke.wav\"\n",
    "redhot = \"../sampleAudio/redhot.wav\""
   ]
  },
  {
   "cell_type": "code",
   "execution_count": null,
   "metadata": {},
   "outputs": [],
   "source": [
    "ipd.Audio(aud_file)"
   ]
  },
  {
   "cell_type": "code",
   "execution_count": 25,
   "metadata": {},
   "outputs": [],
   "source": [
    "tg, sr = librosa.load(aud_file)\n",
    "# signals, sampling rates\n",
    "deb_sig, deb_sr = librosa.load(deb)\n",
    "duke_sig, duke_sr = librosa.load(duke)\n",
    "redhot_sig, redhot_sr = librosa.load(redhot)"
   ]
  },
  {
   "cell_type": "code",
   "execution_count": null,
   "metadata": {},
   "outputs": [],
   "source": [
    "tg.shape"
   ]
  },
  {
   "cell_type": "code",
   "execution_count": null,
   "metadata": {},
   "outputs": [],
   "source": [
    "# duration 1 sample\n",
    "sam_dur = 1/sr\n",
    "sam_dur"
   ]
  },
  {
   "cell_type": "code",
   "execution_count": null,
   "metadata": {},
   "outputs": [],
   "source": [
    "duration = sam_dur * len(tg)\n",
    "# total duration of signal\n",
    "duration/60 # min "
   ]
  },
  {
   "cell_type": "code",
   "execution_count": null,
   "metadata": {},
   "outputs": [],
   "source": [
    "# vis wave form\n",
    "\n",
    "plt.figure(figsize=(45,17))\n",
    "# plt.subplot(3,1,1)\n",
    "librosa.display.waveshow(tg, sr=sr)\n",
    "plt.ylim((-1,1))\n",
    "plt.title(\"tg run it\")\n"
   ]
  },
  {
   "cell_type": "code",
   "execution_count": null,
   "metadata": {},
   "outputs": [],
   "source": [
    "# to loud look at other samples now \n",
    "plt.figure(figsize=(15, 17))\n",
    "\n",
    "plt.subplot(3, 1, 1)\n",
    "librosa.display.waveshow(deb_sig, sr=deb_sr)\n",
    "plt.ylim((-1, 1))\n",
    "plt.title(\"Debusy\")\n",
    "\n",
    "plt.subplot(3, 1, 2)\n",
    "librosa.display.waveshow(redhot_sig, sr=redhot_sr)\n",
    "plt.ylim((-1, 1))\n",
    "plt.title(\"RHCP\")\n",
    "\n",
    "plt.subplot(3, 1, 3)\n",
    "librosa.display.waveshow(duke_sig, sr=duke_sr)\n",
    "plt.ylim((-1, 1))\n",
    "plt.title(\"Duke Ellington\")\n",
    "\n",
    "plt.show()"
   ]
  },
  {
   "cell_type": "markdown",
   "metadata": {},
   "source": [
    "$\\text{max env} = max(signal)$"
   ]
  },
  {
   "cell_type": "code",
   "execution_count": 36,
   "metadata": {},
   "outputs": [],
   "source": [
    "# audio envelop\n",
    "import numpy as np\n",
    "\n",
    "FRAME_SIZE = 1024\n",
    "HOP_LEN = 512\n",
    "\n",
    "def ampl_env(signal, frame_size, hop_len):\n",
    "    # overlapping frames\n",
    "    amp_env = []\n",
    "    for i in range(0, len(signal), hop_len):\n",
    "        amp_env.append(max(signal[i:i+frame_size]))\n",
    "    \n",
    "    return np.array(amp_env)\n",
    "\n",
    "def better_ample_env(signal, frame_size, hop_len):\n",
    "    return np.array([max(signal[i:i+frame_size]) for i in range(0,signal.size, hop_len)])"
   ]
  },
  {
   "cell_type": "code",
   "execution_count": null,
   "metadata": {},
   "outputs": [],
   "source": [
    "ampl_deb = ampl_env(deb_sig, FRAME_SIZE, HOP_LEN)\n",
    "len(ampl_deb)"
   ]
  },
  {
   "cell_type": "code",
   "execution_count": 37,
   "metadata": {},
   "outputs": [],
   "source": [
    "red_ae = better_ample_env(redhot_sig, FRAME_SIZE, HOP_LEN)\n",
    "deb_ae = better_ample_env(deb_sig, FRAME_SIZE, HOP_LEN)\n",
    "duke_ae = better_ample_env(duke_sig, FRAME_SIZE, HOP_LEN)\n"
   ]
  },
  {
   "cell_type": "code",
   "execution_count": null,
   "metadata": {},
   "outputs": [],
   "source": [
    "plt.figure(figsize=(15, 17))\n",
    "frames = range(0,deb_ae.size)\n",
    "t = librosa.frames_to_time(frames, hop_length=HOP_LEN)\n",
    "\n",
    "plt.subplot(3, 1, 1)\n",
    "librosa.display.waveshow(deb_sig, sr=deb_sr)\n",
    "plt.plot(t,deb_ae)\n",
    "plt.ylim((-1, 1))\n",
    "plt.title(\"Debusy\")\n",
    "\n",
    "plt.subplot(3, 1, 2)\n",
    "librosa.display.waveshow(redhot_sig, sr=redhot_sr)\n",
    "plt.plot(t,red_ae)\n",
    "plt.ylim((-1, 1))\n",
    "plt.title(\"RHCP\")\n",
    "\n",
    "plt.subplot(3, 1, 3)\n",
    "librosa.display.waveshow(duke_sig, sr=duke_sr)\n",
    "plt.plot(t,duke_ae)\n",
    "plt.ylim((-1, 1))\n",
    "plt.title(\"Duke Ellington\")\n",
    "\n",
    "plt.show()"
   ]
  },
  {
   "cell_type": "markdown",
   "metadata": {},
   "source": [
    "# rmse and z crossing"
   ]
  },
  {
   "cell_type": "markdown",
   "metadata": {},
   "source": [
    "Rmse- avergage energy or intensity of the signal over time(like avg loudness/power)\n",
    "$ \\\\ RMSE_t = \\sqrt{\\frac{1}{K} \\sum_{k=t*k}^{(t+1)*K-1} s(k)^2} \\\\$\n",
    "square ampltiude values, mean of all squared amp on a envelop/packet, sqrt mean"
   ]
  },
  {
   "cell_type": "code",
   "execution_count": null,
   "metadata": {},
   "outputs": [],
   "source": [
    "deb_rbse = librosa.feature.rms(y=deb_sig, frame_length=FRAME_SIZE, hop_length=HOP_LEN)\n",
    "deb_rbse.shape"
   ]
  },
  {
   "cell_type": "code",
   "execution_count": 51,
   "metadata": {},
   "outputs": [],
   "source": [
    "# create our own\n",
    "def rms(signal, frame_len, hop_len):\n",
    "    rms = []\n",
    "    for i in range(0, len(signal), hop_len):\n",
    "        rms_curr = np.sqrt(np.sum(signal[i:i+frame_len]**2)/frame_len)\n",
    "        rms.append(rms_curr)\n",
    "    return np.array(rms)\n"
   ]
  },
  {
   "cell_type": "code",
   "execution_count": 55,
   "metadata": {},
   "outputs": [],
   "source": [
    "deb_rbse2 = rms(deb_sig, FRAME_SIZE, HOP_LEN)\n",
    "red_rbse2 = rms(redhot_sig, FRAME_SIZE, HOP_LEN)\n",
    "duke_rbse2 = rms(duke_sig, FRAME_SIZE, HOP_LEN)\n",
    "\n",
    "red_rbse = librosa.feature.rms(y=redhot_sig, frame_length=FRAME_SIZE, hop_length=HOP_LEN)\n",
    "duke_rbse = librosa.feature.rms(y=duke_sig, frame_length=FRAME_SIZE, hop_length=HOP_LEN)\n"
   ]
  },
  {
   "cell_type": "code",
   "execution_count": null,
   "metadata": {},
   "outputs": [],
   "source": [
    "(deb_rbse2 == deb_rbse).all()"
   ]
  },
  {
   "cell_type": "code",
   "execution_count": null,
   "metadata": {},
   "outputs": [],
   "source": [
    "print(deb_rbse)\n",
    "print(\"*************************\")\n",
    "print(deb_rbse2)"
   ]
  },
  {
   "cell_type": "code",
   "execution_count": null,
   "metadata": {},
   "outputs": [],
   "source": [
    "plt.figure(figsize=(15, 17))\n",
    "frames = range(0,deb_ae.size)\n",
    "t = librosa.frames_to_time(frames, hop_length=HOP_LEN)\n",
    "\n",
    "plt.subplot(3, 1, 1)\n",
    "librosa.display.waveshow(deb_sig, sr=deb_sr)\n",
    "\n",
    "plt.ylim((-1, 1))\n",
    "plt.plot(t, deb_rbse2, color=\"r\")\n",
    "# plt.plot(t, deb_rbse.flatten(), color=\"b\")\n",
    "plt.title(\"Debusy\")\n",
    "\n",
    "plt.subplot(3, 1, 2)\n",
    "librosa.display.waveshow(redhot_sig, sr=redhot_sr)\n",
    "plt.ylim((-1, 1))\n",
    "plt.plot(t, red_rbse2, color=\"r\")\n",
    "# plt.plot(t, red_rbse.flatten(), color=\"b\")\n",
    "plt.title(\"RHCP\")\n",
    "\n",
    "plt.subplot(3, 1, 3)\n",
    "librosa.display.waveshow(duke_sig, sr=duke_sr)\n",
    "plt.ylim((-1, 1))\n",
    "plt.plot(t, duke_rbse2, color=\"r\")\n",
    "# plt.plot(t, duke_rbse.flatten(), color=\"b\")\n",
    "plt.title(\"Duke Ellington\")\n",
    "\n",
    "plt.show()"
   ]
  },
  {
   "cell_type": "markdown",
   "metadata": {},
   "source": [
    "zero crossing rate\n",
    "amount of times the sin wave crosses zero, thats it\n",
    "\n",
    "$$\n",
    "zcr = \\frac{1}{T-1}\\sum_{t=1}^{T} |s(t) - s(t-1)|\n",
    "$$"
   ]
  },
  {
   "cell_type": "code",
   "execution_count": 65,
   "metadata": {},
   "outputs": [],
   "source": [
    "deb_zc = librosa.feature.zero_crossing_rate(deb_sig, frame_length=FRAME_SIZE)[0]\n",
    "duke_zc = librosa.feature.zero_crossing_rate(duke_sig, frame_length=FRAME_SIZE)[0]\n",
    "red_zc = librosa.feature.zero_crossing_rate(redhot_sig, frame_length=FRAME_SIZE)[0]"
   ]
  },
  {
   "cell_type": "code",
   "execution_count": null,
   "metadata": {},
   "outputs": [],
   "source": [
    "plt.figure(figsize=(15, 17))\n",
    "plt.plot(t, deb_zc*FRAME_SIZE, color=\"g\")\n",
    "plt.plot(t, duke_zc*FRAME_SIZE, color=\"y\")\n",
    "plt.plot(t, red_zc*FRAME_SIZE, color=\"r\") # non normalized\n",
    "plt.show()"
   ]
  },
  {
   "cell_type": "markdown",
   "metadata": {},
   "source": [
    "Fourier Transform"
   ]
  }
 ],
 "metadata": {
  "kernelspec": {
   "display_name": "Python 3",
   "language": "python",
   "name": "python3"
  },
  "language_info": {
   "codemirror_mode": {
    "name": "ipython",
    "version": 3
   },
   "file_extension": ".py",
   "mimetype": "text/x-python",
   "name": "python",
   "nbconvert_exporter": "python",
   "pygments_lexer": "ipython3",
   "version": "3.10.12"
  }
 },
 "nbformat": 4,
 "nbformat_minor": 2
}
